{
 "cells": [
  {
   "cell_type": "code",
   "execution_count": 5,
   "id": "1a4b9f23",
   "metadata": {},
   "outputs": [
    {
     "name": "stdout",
     "output_type": "stream",
     "text": [
      "2002,2009,2016,2023,2037,2044,2051,2058,2072,2079,2086,2093,2107,2114,2121,2128,2142,2149,2156,2163,2177,2184,2191,2198,2212,2219,2226,2233,2247,2254,2261,2268,2282,2289,2296,2303,2317,2324,2331,2338,2352,2359,2366,2373,2387,2394,2401,2408,2422,2429,2436,2443,2457,2464,2471,2478,2492,2499,2506,2513,2527,2534,2541,2548,2562,2569,2576,2583,2597,2604,2611,2618,2632,2639,2646,2653,2667,2674,2681,2688,2702,2709,2716,2723,2737,2744,2751,2758,2772,2779,2786,2793,2807,2814,2821,2828,2842,2849,2856,2863,2877,2884,2891,2898,2912,2919,2926,2933,2947,2954,2961,2968,2982,2989,2996,3003,3017,3024,3031,3038,3052,3059,3066,3073,3087,3094,3101,3108,3122,3129,3136,3143,3157,3164,3171,3178,3192,3199\n"
     ]
    }
   ],
   "source": [
    "# Q. 1:\n",
    "n=[]\n",
    "for i in range(2000, 3201):\n",
    "    if i%7==0 and i%5!=0:\n",
    "        n.append(str(i))\n",
    "print(','.join(n))\n"
   ]
  },
  {
   "cell_type": "code",
   "execution_count": 39,
   "id": "ffc471a7",
   "metadata": {},
   "outputs": [
    {
     "ename": "TypeError",
     "evalue": "'str' object is not callable",
     "output_type": "error",
     "traceback": [
      "\u001b[1;31m---------------------------------------------------------------------------\u001b[0m",
      "\u001b[1;31mTypeError\u001b[0m                                 Traceback (most recent call last)",
      "Cell \u001b[1;32mIn[39], line 3\u001b[0m\n\u001b[0;32m      1\u001b[0m \u001b[38;5;66;03m# Q. 2:\u001b[39;00m\n\u001b[1;32m----> 3\u001b[0m sentence\u001b[38;5;241m=\u001b[39m \u001b[38;5;28minput\u001b[39m(\u001b[38;5;124m\"\u001b[39m\u001b[38;5;124menter a sentence:\u001b[39m\u001b[38;5;124m\"\u001b[39m)\n\u001b[0;32m      4\u001b[0m up \u001b[38;5;241m=\u001b[39m \u001b[38;5;241m0\u001b[39m\n\u001b[0;32m      5\u001b[0m lo \u001b[38;5;241m=\u001b[39m \u001b[38;5;241m0\u001b[39m\n",
      "\u001b[1;31mTypeError\u001b[0m: 'str' object is not callable"
     ]
    }
   ],
   "source": [
    "# Q. 2:\n",
    "\n",
    "sentence= input(\"enter a sentence:\")\n",
    "up = 0\n",
    "lo = 0\n",
    "for i in sentence:\n",
    "    # To check the character is an uppercase letter\n",
    "    if i.isupper():\n",
    "        up += 1\n",
    "        # To check the character is a lowercase letter\n",
    "    elif i.islower():\n",
    "        lo += 1\n",
    "print(\"Number of uppercase letters:\", up)\n",
    "print(\"Number of lowercase letters:\", lo)\n",
    "\n",
    "\n",
    "\n"
   ]
  },
  {
   "cell_type": "code",
   "execution_count": null,
   "id": "da73d3cf",
   "metadata": {},
   "outputs": [],
   "source": [
    "# Q.6:\n",
    "If our model is suffering from high variance and low bias then we can use the regularization techniques ridge regression and \n",
    "lasso regression to:\n",
    "    1. Ridge regression: \n",
    "        Ridge Regression, adds a penalty term to the residual sum of square.\n",
    "        \n",
    "    2. Lasso regression :\n",
    "        Lasso regression, adds a penalty term to the magnitude of residual.\n",
    "        "
   ]
  },
  {
   "cell_type": "code",
   "execution_count": null,
   "id": "cfad8ab1",
   "metadata": {},
   "outputs": [],
   "source": [
    "# Q.4:\n",
    "naive bayes algorithm=p(a|b)=p(b|a).p(a)/p(b)\n",
    "where:\n",
    "    p(a)=prior probability of class and p(b) is prior probability of predictor.\n",
    "    p(b|a) is likelihood probability\n"
   ]
  },
  {
   "cell_type": "code",
   "execution_count": 36,
   "id": "633230eb",
   "metadata": {},
   "outputs": [
    {
     "name": "stdout",
     "output_type": "stream",
     "text": [
      "[1, 2, 3, 4, 5]\n",
      "[6, 7, 8, 9, 0]\n"
     ]
    }
   ],
   "source": [
    "# Q.13:\n",
    "list = [1, 2, 3, 4, 5, 6, 7, 8, 9, 0]\n",
    "midpoint = len(list) // 2\n",
    "print(list[:midpoint])\n",
    "print(list[midpoint:])\n",
    "\n"
   ]
  },
  {
   "cell_type": "code",
   "execution_count": 33,
   "id": "8b349ec8",
   "metadata": {},
   "outputs": [
    {
     "name": "stdout",
     "output_type": "stream",
     "text": [
      "[108, 118, 176, 144, 108]\n"
     ]
    }
   ],
   "source": [
    "# Q. 14:\n",
    "even_numbers = []\n",
    "while len(even_numbers) < 5:\n",
    "    random_number = random.randint(100, 201)\n",
    "    if random_number % 2 == 0:\n",
    "        even_numbers.append(random_number)\n",
    "print(even_numbers)\n"
   ]
  },
  {
   "cell_type": "code",
   "execution_count": null,
   "id": "b0ccf1c5",
   "metadata": {},
   "outputs": [],
   "source": []
  }
 ],
 "metadata": {
  "kernelspec": {
   "display_name": "Python 3 (ipykernel)",
   "language": "python",
   "name": "python3"
  },
  "language_info": {
   "codemirror_mode": {
    "name": "ipython",
    "version": 3
   },
   "file_extension": ".py",
   "mimetype": "text/x-python",
   "name": "python",
   "nbconvert_exporter": "python",
   "pygments_lexer": "ipython3",
   "version": "3.11.5"
  }
 },
 "nbformat": 4,
 "nbformat_minor": 5
}
